{
  "nbformat": 4,
  "nbformat_minor": 0,
  "metadata": {
    "colab": {
      "name": "VITbot.ipynb",
      "provenance": [],
      "collapsed_sections": [],
      "include_colab_link": true
    },
    "kernelspec": {
      "name": "python3",
      "display_name": "Python 3"
    }
  },
  "cells": [
    {
      "cell_type": "markdown",
      "metadata": {
        "id": "view-in-github",
        "colab_type": "text"
      },
      "source": [
        "<a href=\"https://colab.research.google.com/github/Srilakhmigubbala/Vitbot/blob/main/VITbot.ipynb\" target=\"_parent\"><img src=\"https://colab.research.google.com/assets/colab-badge.svg\" alt=\"Open In Colab\"/></a>"
      ]
    },
    {
      "cell_type": "markdown",
      "metadata": {
        "id": "eEqIcKwEKFWR"
      },
      "source": [
        "# *A* ***CHATBOT*** THAT GIVES THE INFORMATION ABOUT THE FEE DETAILS TO THE STUDENT TO JOIN IN **VIT**  "
      ]
    },
    {
      "cell_type": "markdown",
      "metadata": {
        "id": "BI65ssqirvlP"
      },
      "source": [
        "**Team** **members**\n",
        "\n",
        "\n",
        "1.   Name 1 = Mrs.G. Srilakshmi (ECE)\n",
        "2.   Name 2 = Mrs.D. Mamatha (EEE)\n"
      ]
    },
    {
      "cell_type": "markdown",
      "metadata": {
        "id": "9nZQY7dLvDHk"
      },
      "source": [
        "My first colab on chatbot"
      ]
    },
    {
      "cell_type": "markdown",
      "metadata": {
        "id": "8LtCyjT0Kp0D"
      },
      "source": [
        "**DESCRIPTION**"
      ]
    },
    {
      "cell_type": "markdown",
      "metadata": {
        "id": "SY_uq1SneF7Z"
      },
      "source": [
        "This is a program for chatbot to know the fee details of VIT college\n",
        "1. The bot will start with a greeting and ask for name of the person.\n",
        "2. The bot will ask the person to join through EAMCET or MANAGEMENT.\n",
        "3. Based on response of the student bot will ask the student in which branch     \n",
        "he/she wants to join.\n",
        "4. It will respond to users input appropriately"
      ]
    },
    {
      "cell_type": "markdown",
      "metadata": {
        "id": "fqZQ9ULUDRMj"
      },
      "source": [
        "**FINAL** **PROGRAM**"
      ]
    },
    {
      "cell_type": "code",
      "metadata": {
        "id": "JgEwWLZWcJUA",
        "outputId": "2fb371ef-fb7c-49ed-b89c-e8f263ac8c0c",
        "colab": {
          "base_uri": "https://localhost:8080/",
          "height": 353
        }
      },
      "source": [
        "import time\n",
        "currentTime = int(time.strftime('%H'))   \n",
        "\n",
        "if currentTime < 12 :\n",
        "     print('Good morning')\n",
        "if currentTime > 12 :\n",
        "     print('Good afternoon')\n",
        "if currentTime > 17 :\n",
        "     print('Good evening')\n",
        "import random\n",
        "\n",
        "responses = [\n",
        "            'Hi there, Its wonderful to meet u, Im vitbot, i can help u to know our college branches and fee structure',\n",
        "            'Hi there, im vitbot, i can give u d information about our brach details', 'Hi buddy, I can help u about the fee information of our branches'\n",
        "            ]\n",
        "print(random.choice(responses))\n",
        "a=str(input())\n",
        "print('what is ur name')\n",
        "b=str(input())\n",
        "messages = [\n",
        "      'Nice to meet u Let us chat ' +  b,\n",
        "      'Wonderful, It is my pleasure to chat with you ' +  b\n",
        "    ]\n",
        "\n",
        "print(random.choice(messages))\n",
        "\n",
        "print('Have u written eamcet examination?(type yes/no)')\n",
        "p=str(input())\n",
        "p=p.lower()\n",
        "if p=='yes':\n",
        "  \n",
        "  print('Oh good! which rank u got?')\n",
        "  x=int(input())\n",
        "  print('Thats great!')\n",
        "  print('These are the branches we are having in our college')\n",
        "  print(\"1. CSE\")\n",
        "  print(\"2. ECE\")\n",
        "  print(\"3. EEE\")\n",
        "  print(\"4. IT\")\n",
        "  print(\"5. ME\")\n",
        "  print(\"6. CIVIL\")\n",
        "  print('select ur option')\n",
        "  option=int(input())\n",
        "  if x<=5000:\n",
        "    if option!=1 and option!=2:\n",
        "      print('for your rank you will get cse or ece')\n",
        "      print('do u want to choose from these')\n",
        "      chf=str(input())\n",
        "      if chf=='yes':\n",
        "        print('FOR OC CSE FEE IS 80,000 ,FOR BC CSE FEE IS 70,000 ,FOR SC AND ST CSE FEE IS 50,000')\n",
        "        print('FOR OC ECE FEE IS 90,000 ,FOR BC ECE FEE IS 80,000 ,FOR SC AND ST ECE FEE IS 50,000')\n",
        "        print('which branch u want to join')\n",
        "        final=str(input())\n",
        "        print('that is a good choice all the best my dear student')\n",
        "      else:\n",
        "          print('FOR OC EEE FEE IS 70,000 ,FOR BC EEE FEE IS 60,000 ,FOR SC AND ST EEE FEE IS 40,000')\n",
        "          print('FOR OC ME FEE IS 70,000 ,FOR BC ME FEE IS 60,000 ,FOR SC AND ST ME FEE IS 40,000')\n",
        "          print('FOR OC CE FEE IS 60,000 ,FOR BC CE FEE IS 50,000 ,FOR SC AND ST CE FEE IS 40,000')\n",
        "          print('FOR OC IT FEE IS 60,000 ,FOR BC IT FEE IS 50,000 ,FOR SC AND ST IT FEE IS 40,000')\n",
        "          print('which branch u want to join')\n",
        "          final=str(input())\n",
        "          print('THAT IS A GOOD CHOICE! NICE TO CHAT WITH U, LETS START OUR VIT JOURNEY')\n",
        "    else:\n",
        "        if option==1:\n",
        "          print('FOR OC CSE FEE IS 80,000 ,FOR BC CSE FEE IS 70,000 ,FOR SC AND ST CSE FEE IS 50,000')\n",
        "        if option==2:\n",
        "          print('FOR OC ECE FEE IS 90,000 ,FOR BC ECE FEE IS 80,000 ,FOR SC AND ST ECE FEE IS 50,000')\n",
        "        print('Is this your final choice(type yes/no)')\n",
        "        final=str(input())\n",
        "        if final=='yes':\n",
        "          print('that is a good choice all the best my dear student')\n",
        "        else:\n",
        "          print('choose other option')\n",
        "          other=int(input())\n",
        "          print('FOR OC EEE FEE IS 70,000 ,FOR BC EEE FEE IS 60,000 ,FOR SC AND ST EEE FEE IS 40,000')\n",
        "          print('FOR OC ME FEE IS 70,000 ,FOR BC ME FEE IS 60,000 ,FOR SC AND ST ME FEE IS 40,000')\n",
        "          print('FOR OC CE FEE IS 60,000 ,FOR BC CE FEE IS 50,000 ,FOR SC AND ST CE FEE IS 40,000')\n",
        "          print('FOR OC IT FEE IS 60,000 ,FOR BC IT FEE IS 50,000 ,FOR SC AND ST IT FEE IS 40,000')\n",
        "          print('which branch u want to join')\n",
        "          ofinal=str(input())\n",
        "          print('THAT IS A GOOD CHOICE! NICE TO CHAT WITH U, LETS START OUR VIT JOURNEY')\n",
        "\n",
        "  elif x>5000 and x<=15000:\n",
        "    if option==1 or option==2:\n",
        "      print('for your rank you will not get cse or ece choose from other options')\n",
        "      optagain=int(input())\n",
        "      print('FOR OC EEE FEE IS 70,000 ,FOR BC EEE FEE IS 60,000 ,FOR SC AND ST EEE FEE IS 40,000')\n",
        "      print('FOR OC ME FEE IS 70,000 ,FOR BC ME FEE IS 60,000 ,FOR SC AND ST ME FEE IS 40,000')\n",
        "      print('FOR OC CE FEE IS 60,000 ,FOR BC CE FEE IS 50,000 ,FOR SC AND ST CE FEE IS 40,000')\n",
        "      print('FOR OC IT FEE IS 60,000 ,FOR BC IT FEE IS 50,000 ,FOR SC AND ST IT FEE IS 40,000')\n",
        "      print('which branch u want to join')\n",
        "      final=str(input())\n",
        "      print('THAT IS A GOOD CHOICE! NICE TO CHAT WITH U, LETS START OUR VIT JOURNEY')\n",
        "  elif x>15000 and x<=25000:\n",
        "    if option==1 or option==2:\n",
        "      print('for your rank you will not get cse or ece choose from other options')\n",
        "      optagain=int(input())\n",
        "      print('FOR OC EEE FEE IS 70,000 ,FOR BC EEE FEE IS 60,000 ,FOR SC AND ST EEE FEE IS 40,000')\n",
        "      print('FOR OC ME FEE IS 70,000 ,FOR BC ME FEE IS 60,000 ,FOR SC AND ST ME FEE IS 40,000')\n",
        "      print('FOR OC CE FEE IS 60,000 ,FOR BC CE FEE IS 50,000 ,FOR SC AND ST CE FEE IS 40,000')\n",
        "      print('FOR OC IT FEE IS 60,000 ,FOR BC IT FEE IS 50,000 ,FOR SC AND ST IT FEE IS 40,000')\n",
        "      print('which branch u want to join')\n",
        "      final=str(input())\n",
        "      print('that is a good choice all the best my dear student')\n",
        "  elif x>25000 and x<=50000:\n",
        "    if option==1 or option==2:\n",
        "      print('for your rank you will not get cse or ece choose from other options')\n",
        "      optagain=int(input())\n",
        "      print('FOR OC EEE FEE IS 70,000 ,FOR BC EEE FEE IS 60,000 ,FOR SC AND ST EEE FEE IS 40,000')\n",
        "      print('FOR OC ME FEE IS 70,000 ,FOR BC ME FEE IS 60,000 ,FOR SC AND ST ME FEE IS 40,000')\n",
        "      print('FOR OC CE FEE IS 60,000 ,FOR BC CE FEE IS 50,000 ,FOR SC AND ST CE FEE IS 40,000')\n",
        "      print('FOR OC IT FEE IS 60,000 ,FOR BC IT FEE IS 50,000 ,FOR SC AND ST IT FEE IS 40,000')\n",
        "      print('which branch u want to join')\n",
        "      final=str(input())\n",
        "      print('that is a good choice all the best my dear student')\n",
        "  elif x>50000 and x<=300000:\n",
        "    if option==1 or option==2 or option==6:\n",
        "      print('for your rank you will not get cse or ece or IT choose from other options')\n",
        "      optagain=int(input())\n",
        "      print('FOR OC EEE FEE IS 70,000 ,FOR BC EEE FEE IS 60,000 ,FOR SC AND ST EEE FEE IS 40,000')\n",
        "      print('FOR OC ME FEE IS 70,000 ,FOR BC ME FEE IS 60,000 ,FOR SC AND ST ME FEE IS 40,000')\n",
        "      print('FOR OC CE FEE IS 60,000 ,FOR BC CE FEE IS 50,000 ,FOR SC AND ST CE FEE IS 40,000')\n",
        "      print('which branch u want to join')\n",
        "      final=str(input())\n",
        "      print('that is a good choice all the best my dear student')\n",
        "  elif x>300000:\n",
        "    print('sorry for ur rank u will not get seat in our college thru eamcet, u can join through management')\n",
        "    print('FOR CSE MANAGEMENT FEE IS 500000')\n",
        "    print('FOR ECE MANAGEMENT FEE IS 400000')\n",
        "    print('FOR EEE MANAGEMENT FEE IS 200000')\n",
        "    print('FOR ME MANAGEMENT FEE IS 200000')\n",
        "    print('FOR CE MANAGEMENT FEE IS 100000')\n",
        "    print('FOR IT MANAGEMENT FEE IS 300000')\n",
        "    print('which branch u want to join')\n",
        "    final=str(input())\n",
        "    print('that is a good choice all the best my dear student')\n",
        "    \n",
        "   \n",
        "else:\n",
        "    print('OK!u want to join through management?(type yes/no)')\n",
        "    b=str(input())\n",
        "    if b=='yes':\n",
        "      print('ok')\n",
        "      print('FOR CSE MANAGEMENT FEE IS 500000')\n",
        "      print('FOR ECE MANAGEMENT FEE IS 400000')\n",
        "      print('FOR EEE MANAGEMENT FEE IS 200000')\n",
        "      print('FOR ME MANAGEMENT FEE IS 200000')\n",
        "      print('FOR CE MANAGEMENT FEE IS 100000')\n",
        "      print('FOR IT MANAGEMENT FEE IS 300000')\n",
        "      print('which branch u want to join')\n",
        "      final=str(input())\n",
        "      print('that is a good choice all the best my dear student')\n"
      ],
      "execution_count": null,
      "outputs": [
        {
          "output_type": "stream",
          "text": [
            "Good afternoon\n",
            "Hi there, Its wonderful to meet u, Im vitbot, i can help u to know our college branches and fee structure\n",
            "hi\n",
            "what is ur name\n",
            "sai\n",
            "Wonderful, It is my pleasure to chat with you sai\n",
            "Have u written eamcet examination?(type yes/no)\n",
            "no\n",
            "OK!u want to join through management?(type yes/no)\n",
            "yes\n",
            "ok\n",
            "FOR CSE MANAGEMENT FEE IS 500000\n",
            "FOR ECE MANAGEMENT FEE IS 400000\n",
            "FOR EEE MANAGEMENT FEE IS 200000\n",
            "FOR ME MANAGEMENT FEE IS 200000\n",
            "FOR CE MANAGEMENT FEE IS 100000\n",
            "FOR IT MANAGEMENT FEE IS 300000\n",
            "which branch u want to join\n",
            "me\n",
            "that is a good choice all the best my dear student\n"
          ],
          "name": "stdout"
        }
      ]
    }
  ]
}